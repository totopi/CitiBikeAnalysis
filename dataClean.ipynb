{
 "cells": [
  {
   "cell_type": "markdown",
   "metadata": {},
   "source": [
    "## Merging/Cleaning Bike Data\n",
    "\n",
    "The aim of this script is to create a reusable tool for merging and cleaning New York City Bike data (https://www.citibikenyc.com/system-data) into a single csv file for consumption via Tableau. \n",
    "First I want to get a list of the files currently sitting in the data folder, we'll use the **os** module for this task\n",
    "\n",
    "### Kevin's Additions\n",
    "+ Prevent double writing first script\n",
    "+ Age feature\n",
    "+ Distance feature\n",
    "+ Zipcode feature... kinda"
   ]
  },
  {
   "cell_type": "code",
   "execution_count": 1,
   "metadata": {},
   "outputs": [
    {
     "name": "stdout",
     "output_type": "stream",
     "text": [
      "['201704-citibike-tripdata.csv', '201708-citibike-tripdata.csv', '201712-citibike-tripdata.csv', '201804-citibike-tripdata.csv']\n"
     ]
    }
   ],
   "source": [
    "import pandas as pd\n",
    "\n",
    "import geopy.distance\n",
    "from geopy.geocoders import Nominatim\n",
    "\n",
    "from os import listdir\n",
    "from os.path import isfile, join\n",
    "datafiles = [f for f in listdir(\"data/\") if isfile(join(\"data/\", f))]\n",
    "print(datafiles)"
   ]
  },
  {
   "cell_type": "markdown",
   "metadata": {},
   "source": [
    "## Now lets read in the first file in order to get an idea of what we are working with"
   ]
  },
  {
   "cell_type": "code",
   "execution_count": 2,
   "metadata": {},
   "outputs": [
    {
     "name": "stdout",
     "output_type": "stream",
     "text": [
      "<class 'pandas.core.frame.DataFrame'>\n",
      "DatetimeIndex: 1315404 entries, 2017-04-01 00:00:58 to 2017-04-30 23:59:53\n",
      "Data columns (total 14 columns):\n",
      "tripduration               1315404 non-null int64\n",
      "stoptime                   1315404 non-null object\n",
      "start station id           1315404 non-null int64\n",
      "start station name         1315404 non-null object\n",
      "start station latitude     1315404 non-null float64\n",
      "start station longitude    1315404 non-null float64\n",
      "end station id             1315404 non-null int64\n",
      "end station name           1315404 non-null object\n",
      "end station latitude       1315404 non-null float64\n",
      "end station longitude      1315404 non-null float64\n",
      "bikeid                     1315404 non-null int64\n",
      "usertype                   1315404 non-null object\n",
      "birth year                 1146732 non-null float64\n",
      "gender                     1315404 non-null int64\n",
      "dtypes: float64(5), int64(5), object(4)\n",
      "memory usage: 150.5+ MB\n"
     ]
    }
   ],
   "source": [
    "df = pd.read_csv(\"data/\" + datafiles[0], parse_dates=True, index_col='starttime')\n",
    "df.info()"
   ]
  },
  {
   "cell_type": "markdown",
   "metadata": {},
   "source": [
    "### Great now we just need to pop out that first index so we don't duplicate it on our df"
   ]
  },
  {
   "cell_type": "code",
   "execution_count": 3,
   "metadata": {},
   "outputs": [
    {
     "name": "stdout",
     "output_type": "stream",
     "text": [
      "['201708-citibike-tripdata.csv', '201712-citibike-tripdata.csv', '201804-citibike-tripdata.csv']\n"
     ]
    }
   ],
   "source": [
    "del datafiles[0]\n",
    "print(datafiles)"
   ]
  },
  {
   "cell_type": "markdown",
   "metadata": {},
   "source": [
    "### Ok so it looks like we have a pretty set array of data, now we'll loop through the list of csv files and append them to the file we have above"
   ]
  },
  {
   "cell_type": "code",
   "execution_count": 4,
   "metadata": {},
   "outputs": [
    {
     "name": "stdout",
     "output_type": "stream",
     "text": [
      "3131902\n",
      "4021869\n",
      "5329390\n"
     ]
    }
   ],
   "source": [
    "for csv in datafiles:\n",
    "    new_df = pd.read_csv(\"data/\" + csv, parse_dates=True, index_col='starttime')\n",
    "    #print(new_df.head(5))\n",
    "    df = pd.concat([df, new_df])\n",
    "    print(len(df))"
   ]
  },
  {
   "cell_type": "code",
   "execution_count": 5,
   "metadata": {},
   "outputs": [
    {
     "name": "stdout",
     "output_type": "stream",
     "text": [
      "<class 'pandas.core.frame.DataFrame'>\n",
      "DatetimeIndex: 5329390 entries, 2017-04-01 00:00:58 to 2018-04-30 23:59:35\n",
      "Data columns (total 15 columns):\n",
      "bikeid                     int64\n",
      "birth year                 float64\n",
      "end station id             int64\n",
      "end station latitude       float64\n",
      "end station longitude      float64\n",
      "end station name           object\n",
      "gender                     int64\n",
      "name_localizedValue0       object\n",
      "start station id           int64\n",
      "start station latitude     float64\n",
      "start station longitude    float64\n",
      "start station name         object\n",
      "stoptime                   object\n",
      "tripduration               int64\n",
      "usertype                   object\n",
      "dtypes: float64(5), int64(5), object(5)\n",
      "memory usage: 650.6+ MB\n"
     ]
    }
   ],
   "source": [
    "df.info()"
   ]
  },
  {
   "cell_type": "markdown",
   "metadata": {},
   "source": [
    "# Cleaning up the data and sorting by date"
   ]
  },
  {
   "cell_type": "code",
   "execution_count": 6,
   "metadata": {},
   "outputs": [],
   "source": [
    "df['Gender'] = df['gender'].replace([0,1,2], ['unknown', 'male', 'female'])\n",
    "# df[['bikeid', 'birth year', 'end station id', 'end station latitude', 'end station longitude', 'end station name', 'Gender', 'name_localizedValue0', 'start station id', 'start station latitude', 'start station longitude', 'start station name', 'stoptime', 'tripduration', 'usertype']]"
   ]
  },
  {
   "cell_type": "markdown",
   "metadata": {},
   "source": [
    "### Now let's engineer Age, by taking the ride stop time year and subtracting birth year if it exists, as well as Distance"
   ]
  },
  {
   "cell_type": "code",
   "execution_count": 7,
   "metadata": {},
   "outputs": [],
   "source": [
    "df['Age'] = pd.to_numeric(df['stoptime'][0][:4]) - df['birth year']"
   ]
  },
  {
   "cell_type": "raw",
   "metadata": {},
   "source": [
    "# I love jupyter notebooks for testing!  This is all part of a zip code thing I abandoned.\n",
    "# len(blist)\n",
    "# location = geolocator.reverse(f'{df[\"start station latitude\"][0]}, {df[\"start station longitude\"][0]}')\n",
    "# location.raw['address']['postcode']\n",
    "# print(f\"{df['start station name'].nunique()} {df['start station latitude'].nunique()}\")\n",
    "len(start_zips)\n",
    "# start_zips"
   ]
  },
  {
   "cell_type": "markdown",
   "metadata": {},
   "source": [
    "### Let's get zip codes and this might be the fastest way to do it?"
   ]
  },
  {
   "cell_type": "raw",
   "metadata": {},
   "source": [
    "geolocator = Nominatim()\n",
    "length = len(start_zips)\n",
    "number = 0\n",
    "for stations in df['start station name'].unique():\n",
    "    if number <= length:\n",
    "        number += 1\n",
    "    else:\n",
    "        coords = [df[df['start station name'] == stations]['start station latitude'][0], df[df['start station name'] == stations]['start station longitude'][0]]\n",
    "        location = geolocator.reverse(f'{coords[0]}, {coords[1]}')\n",
    "        try:\n",
    "            start_zips.append({stations: location.raw['address']['postcode']})\n",
    "        except:\n",
    "            start_zips.append({stations: '00000'})"
   ]
  },
  {
   "cell_type": "markdown",
   "metadata": {},
   "source": [
    "### Add in the stations in our end station section to grab all of those zip codes!"
   ]
  },
  {
   "cell_type": "raw",
   "metadata": {},
   "source": [
    "start_names = df['start station name'].unique()\n",
    "for stations in df['end station name'].unique():\n",
    "    if stations in start_names:\n",
    "        pass\n",
    "    else:\n",
    "        coords = [df[df['end station name'] == stations]['end station latitude'][0], df[df['end station name'] == stations]['end station longitude'][0]]\n",
    "        location = geolocator.reverse(f'{coords[0]}, {coords[1]}')\n",
    "        try:\n",
    "            start_zips.append({stations: location.raw['address']['postcode']})\n",
    "        except:\n",
    "            start_zips.append({stations: '00000'})"
   ]
  },
  {
   "cell_type": "markdown",
   "metadata": {},
   "source": [
    "### And save it!!!!  This took a decent amount of time to do"
   ]
  },
  {
   "cell_type": "raw",
   "metadata": {},
   "source": [
    "import json\n",
    "\n",
    "with open('zipcodes.txt', 'w') as outfile:\n",
    "    json.dump(start_zips, outfile)"
   ]
  },
  {
   "cell_type": "markdown",
   "metadata": {},
   "source": [
    "#### Turning it into something a bit more useable"
   ]
  },
  {
   "cell_type": "raw",
   "metadata": {},
   "source": [
    "zip_codes = start_zips"
   ]
  },
  {
   "cell_type": "raw",
   "metadata": {},
   "source": [
    "station_names = []\n",
    "station_zips = []\n",
    "for row in zip_codes:\n",
    "    station_names.append(list(row.items())[0][0])\n",
    "    station_zips.append(list(row.items())[0][1])"
   ]
  },
  {
   "cell_type": "markdown",
   "metadata": {},
   "source": [
    "#### And then I ran into an issue with missing one zipcode and class started and I didn't feel like finishing it"
   ]
  },
  {
   "cell_type": "raw",
   "metadata": {},
   "source": [
    "for row in zip_codes:\n",
    "    try:\n",
    "        print(row['9 Ave & W 18 St'])\n",
    "        print('yay')\n",
    "    except:\n",
    "        pass\n",
    "df['start station name'].unique().tolist().index('9 Ave & W 18 St')"
   ]
  },
  {
   "cell_type": "markdown",
   "metadata": {},
   "source": [
    "#### OK So this is how to add everything once it's all working nicely"
   ]
  },
  {
   "cell_type": "code",
   "execution_count": 79,
   "metadata": {},
   "outputs": [
    {
     "ename": "ValueError",
     "evalue": "'9 Ave & W 18 St' is not in list",
     "output_type": "error",
     "traceback": [
      "\u001b[1;31m---------------------------------------------------------------------------\u001b[0m",
      "\u001b[1;31mValueError\u001b[0m                                Traceback (most recent call last)",
      "\u001b[1;32m<ipython-input-79-931f7d2ac319>\u001b[0m in \u001b[0;36m<module>\u001b[1;34m()\u001b[0m\n\u001b[0;32m      9\u001b[0m     \u001b[0mend_coords\u001b[0m \u001b[1;33m=\u001b[0m \u001b[1;33m[\u001b[0m\u001b[0mrow\u001b[0m\u001b[1;33m[\u001b[0m\u001b[1;34m'end station latitude'\u001b[0m\u001b[1;33m]\u001b[0m\u001b[1;33m,\u001b[0m \u001b[0mrow\u001b[0m\u001b[1;33m[\u001b[0m\u001b[1;34m'end station longitude'\u001b[0m\u001b[1;33m]\u001b[0m\u001b[1;33m]\u001b[0m\u001b[1;33m\u001b[0m\u001b[0m\n\u001b[0;32m     10\u001b[0m     \u001b[0mdistances\u001b[0m\u001b[1;33m.\u001b[0m\u001b[0mappend\u001b[0m\u001b[1;33m(\u001b[0m\u001b[0mgeopy\u001b[0m\u001b[1;33m.\u001b[0m\u001b[0mdistance\u001b[0m\u001b[1;33m.\u001b[0m\u001b[0mdistance\u001b[0m\u001b[1;33m(\u001b[0m\u001b[0mstart_coords\u001b[0m\u001b[1;33m,\u001b[0m \u001b[0mend_coords\u001b[0m\u001b[1;33m)\u001b[0m\u001b[1;33m.\u001b[0m\u001b[0mmiles\u001b[0m\u001b[1;33m)\u001b[0m\u001b[1;33m\u001b[0m\u001b[0m\n\u001b[1;32m---> 11\u001b[1;33m     \u001b[0mstart_station_zips\u001b[0m\u001b[1;33m.\u001b[0m\u001b[0mappend\u001b[0m\u001b[1;33m(\u001b[0m\u001b[0mstation_zips\u001b[0m\u001b[1;33m[\u001b[0m\u001b[0mstation_names\u001b[0m\u001b[1;33m.\u001b[0m\u001b[0mindex\u001b[0m\u001b[1;33m(\u001b[0m\u001b[0mrow\u001b[0m\u001b[1;33m[\u001b[0m\u001b[1;34m'start station name'\u001b[0m\u001b[1;33m]\u001b[0m\u001b[1;33m)\u001b[0m\u001b[1;33m]\u001b[0m\u001b[1;33m)\u001b[0m\u001b[1;33m\u001b[0m\u001b[0m\n\u001b[0m\u001b[0;32m     12\u001b[0m     \u001b[0mend_station_zips\u001b[0m\u001b[1;33m.\u001b[0m\u001b[0mappend\u001b[0m\u001b[1;33m(\u001b[0m\u001b[0mstation_zips\u001b[0m\u001b[1;33m[\u001b[0m\u001b[0mstation_names\u001b[0m\u001b[1;33m.\u001b[0m\u001b[0mindex\u001b[0m\u001b[1;33m(\u001b[0m\u001b[0mrow\u001b[0m\u001b[1;33m[\u001b[0m\u001b[1;34m'end station name'\u001b[0m\u001b[1;33m]\u001b[0m\u001b[1;33m)\u001b[0m\u001b[1;33m]\u001b[0m\u001b[1;33m)\u001b[0m\u001b[1;33m\u001b[0m\u001b[0m\n",
      "\u001b[1;31mValueError\u001b[0m: '9 Ave & W 18 St' is not in list"
     ]
    }
   ],
   "source": [
    "# This takes a little time\n",
    "distances = []\n",
    "start_station_zips = []\n",
    "end_station_zips = []\n",
    "start_stations = []\n",
    "end_stations = []\n",
    "for index, row in df.iterrows():\n",
    "    start_coords = [row['start station latitude'], row['start station longitude']]\n",
    "    end_coords = [row['end station latitude'], row['end station longitude']]\n",
    "    distances.append(geopy.distance.distance(start_coords, end_coords).miles)\n",
    "    start_station_zips.append(station_zips[station_names.index(row['start station name'])])\n",
    "    end_station_zips.append(station_zips[station_names.index(row['end station name'])]) "
   ]
  },
  {
   "cell_type": "markdown",
   "metadata": {},
   "source": [
    "#### ^^^^Working nicely ^_^"
   ]
  },
  {
   "cell_type": "code",
   "execution_count": 41,
   "metadata": {},
   "outputs": [
    {
     "data": {
      "text/plain": [
       "0.000000    108957\n",
       "1.480843      2945\n",
       "3.039488      2907\n",
       "0.501124      2774\n",
       "0.296588      2599\n",
       "2.559179      2508\n",
       "0.249226      2476\n",
       "0.708702      2462\n",
       "0.485263      2351\n",
       "0.425562      2351\n",
       "0.703516      2323\n",
       "0.472443      2262\n",
       "0.357127      2232\n",
       "0.325062      2206\n",
       "0.870129      2200\n",
       "0.682090      2160\n",
       "2.331461      2116\n",
       "1.383191      2112\n",
       "0.650809      2096\n",
       "0.590944      2081\n",
       "0.405118      2054\n",
       "0.449154      1994\n",
       "0.583632      1977\n",
       "0.839115      1947\n",
       "0.689726      1925\n",
       "0.230075      1922\n",
       "0.718156      1895\n",
       "0.505528      1862\n",
       "0.889393      1853\n",
       "0.430139      1842\n",
       "             ...  \n",
       "5.044555         1\n",
       "2.493808         1\n",
       "4.995481         1\n",
       "3.701005         1\n",
       "4.438464         1\n",
       "3.173937         1\n",
       "2.117186         1\n",
       "4.308691         1\n",
       "5.839255         1\n",
       "4.705512         1\n",
       "3.032099         1\n",
       "2.078960         1\n",
       "3.160625         1\n",
       "2.992339         1\n",
       "4.546876         1\n",
       "1.821777         1\n",
       "4.390918         1\n",
       "3.391037         1\n",
       "1.881611         1\n",
       "2.005592         1\n",
       "3.100143         1\n",
       "2.503653         1\n",
       "2.368464         1\n",
       "5.128001         1\n",
       "3.573296         1\n",
       "6.530970         1\n",
       "3.475729         1\n",
       "3.756212         1\n",
       "4.440901         1\n",
       "4.229420         1\n",
       "Name: Distance, Length: 147286, dtype: int64"
      ]
     },
     "execution_count": 41,
     "metadata": {},
     "output_type": "execute_result"
    }
   ],
   "source": [
    "df['Distance'] = distances\n",
    "df['Start Station Zipcode'] = start_station_zips\n",
    "df['End Station Zipcode'] = end_station_zips"
   ]
  },
  {
   "cell_type": "markdown",
   "metadata": {},
   "source": [
    "### Continue Running Code From This Point\n",
    "+ Point"
   ]
  },
  {
   "cell_type": "code",
   "execution_count": null,
   "metadata": {},
   "outputs": [],
   "source": [
    "# This takes a little time\n",
    "distances = []\n",
    "for index, row in df.iterrows():\n",
    "    start_coords = [row['start station latitude'], row['start station longitude']]\n",
    "    end_coords = [row['end station latitude'], row['end station longitude']]\n",
    "    distances.append(geopy.distance.distance(start_coords, end_coords).miles)\n",
    "df['Distance'] = distances"
   ]
  },
  {
   "cell_type": "code",
   "execution_count": 42,
   "metadata": {},
   "outputs": [],
   "source": [
    "df = df[['Age', \n",
    "         'bikeid', \n",
    "         'birth year', \n",
    "         'Distance', \n",
    "         'end station id', \n",
    "         'end station latitude', \n",
    "         'end station longitude', \n",
    "         'end station name', \n",
    "         'End Station Zipcode', \n",
    "         'Gender', \n",
    "         'name_localizedValue0', \n",
    "         'start station id', \n",
    "         'start station latitude', \n",
    "         'start station longitude', \n",
    "         'start station name', \n",
    "         'Start Station Zipcode',\n",
    "         'stoptime', \n",
    "         'tripduration', \n",
    "         'usertype']]"
   ]
  },
  {
   "cell_type": "markdown",
   "metadata": {},
   "source": [
    "#### I think maybe some people lied about their birth year..."
   ]
  },
  {
   "cell_type": "code",
   "execution_count": 43,
   "metadata": {},
   "outputs": [
    {
     "data": {
      "text/plain": [
       "array([  51.,   22.,   30.,   56.,   50.,   43.,   46.,   40.,   24.,\n",
       "         41.,   44.,   28.,   53.,   32.,   27.,   37.,   55.,   31.,\n",
       "         23.,   67.,   48.,   38.,   20.,   21.,   26.,   35.,   29.,\n",
       "         63.,   25.,   58.,   19.,   64.,   18.,   nan,   45.,   33.,\n",
       "         60.,   47.,   36.,   34.,   42.,   39.,   49.,   52.,   57.,\n",
       "         59.,   69.,   68.,   62.,   61.,   54.,   66.,   65.,   70.,\n",
       "         17.,   71.,   75.,  100.,   81.,   73.,   74.,  132.,   72.,\n",
       "         76.,   77.,  117.,   85.,   91.,   78.,   79.,   80.,  124.,\n",
       "         16.,   83.,   87.,  116.,  131.,   86.,   84.,  107.,  105.,\n",
       "        110.,   96.,   94.,  129.,  118.,   82.,  122.,   99.,  121.,\n",
       "         90.,  104.,  130.,   89.,   88.,  102.,   97.,  112.,  101.,\n",
       "        127.,  123.,  128.,   15.,   98.,  120.])"
      ]
     },
     "execution_count": 43,
     "metadata": {},
     "output_type": "execute_result"
    }
   ],
   "source": [
    "df['Age'].unique()"
   ]
  },
  {
   "cell_type": "code",
   "execution_count": 44,
   "metadata": {},
   "outputs": [
    {
     "data": {
      "text/plain": [
       "28.0     203944\n",
       "29.0     203522\n",
       "27.0     202265\n",
       "30.0     194997\n",
       "32.0     194020\n",
       "31.0     192732\n",
       "26.0     188095\n",
       "33.0     174478\n",
       "25.0     170519\n",
       "34.0     163605\n",
       "35.0     153495\n",
       "24.0     143085\n",
       "36.0     142145\n",
       "37.0     128350\n",
       "38.0     120355\n",
       "39.0     111850\n",
       "40.0     104328\n",
       "41.0     100815\n",
       "47.0      98108\n",
       "42.0      95641\n",
       "43.0      93878\n",
       "23.0      93301\n",
       "46.0      90187\n",
       "48.0      87717\n",
       "44.0      87368\n",
       "45.0      86109\n",
       "49.0      80236\n",
       "50.0      75603\n",
       "52.0      72079\n",
       "53.0      71046\n",
       "          ...  \n",
       "118.0       106\n",
       "116.0        94\n",
       "107.0        94\n",
       "105.0        90\n",
       "86.0         86\n",
       "84.0         75\n",
       "100.0        73\n",
       "96.0         67\n",
       "99.0         65\n",
       "123.0        55\n",
       "129.0        54\n",
       "124.0        49\n",
       "131.0        48\n",
       "91.0         43\n",
       "88.0         39\n",
       "87.0         32\n",
       "110.0        28\n",
       "122.0        25\n",
       "89.0         20\n",
       "98.0         14\n",
       "121.0         6\n",
       "127.0         4\n",
       "102.0         4\n",
       "101.0         4\n",
       "104.0         4\n",
       "112.0         3\n",
       "120.0         2\n",
       "97.0          2\n",
       "90.0          1\n",
       "128.0         1\n",
       "Name: Age, Length: 104, dtype: int64"
      ]
     },
     "execution_count": 44,
     "metadata": {},
     "output_type": "execute_result"
    }
   ],
   "source": [
    "df['Age'].value_counts()"
   ]
  },
  {
   "cell_type": "code",
   "execution_count": 45,
   "metadata": {},
   "outputs": [
    {
     "data": {
      "text/html": [
       "<div>\n",
       "<style>\n",
       "    .dataframe thead tr:only-child th {\n",
       "        text-align: right;\n",
       "    }\n",
       "\n",
       "    .dataframe thead th {\n",
       "        text-align: left;\n",
       "    }\n",
       "\n",
       "    .dataframe tbody tr th {\n",
       "        vertical-align: top;\n",
       "    }\n",
       "</style>\n",
       "<table border=\"1\" class=\"dataframe\">\n",
       "  <thead>\n",
       "    <tr style=\"text-align: right;\">\n",
       "      <th></th>\n",
       "      <th>Age</th>\n",
       "      <th>bikeid</th>\n",
       "      <th>birth year</th>\n",
       "      <th>Distance</th>\n",
       "      <th>end station id</th>\n",
       "      <th>end station latitude</th>\n",
       "      <th>end station longitude</th>\n",
       "      <th>end station name</th>\n",
       "      <th>Gender</th>\n",
       "      <th>name_localizedValue0</th>\n",
       "      <th>start station id</th>\n",
       "      <th>start station latitude</th>\n",
       "      <th>start station longitude</th>\n",
       "      <th>start station name</th>\n",
       "      <th>stoptime</th>\n",
       "      <th>tripduration</th>\n",
       "      <th>usertype</th>\n",
       "    </tr>\n",
       "    <tr>\n",
       "      <th>starttime</th>\n",
       "      <th></th>\n",
       "      <th></th>\n",
       "      <th></th>\n",
       "      <th></th>\n",
       "      <th></th>\n",
       "      <th></th>\n",
       "      <th></th>\n",
       "      <th></th>\n",
       "      <th></th>\n",
       "      <th></th>\n",
       "      <th></th>\n",
       "      <th></th>\n",
       "      <th></th>\n",
       "      <th></th>\n",
       "      <th></th>\n",
       "      <th></th>\n",
       "      <th></th>\n",
       "    </tr>\n",
       "  </thead>\n",
       "  <tbody>\n",
       "    <tr>\n",
       "      <th>2017-04-01 00:00:58</th>\n",
       "      <td>51.0</td>\n",
       "      <td>25454</td>\n",
       "      <td>1966.0</td>\n",
       "      <td>0.391795</td>\n",
       "      <td>430</td>\n",
       "      <td>40.701485</td>\n",
       "      <td>-73.986569</td>\n",
       "      <td>York St &amp; Jay St</td>\n",
       "      <td>male</td>\n",
       "      <td>NaN</td>\n",
       "      <td>217</td>\n",
       "      <td>40.702772</td>\n",
       "      <td>-73.993836</td>\n",
       "      <td>Old Fulton St</td>\n",
       "      <td>2017-04-01 00:04:14</td>\n",
       "      <td>195</td>\n",
       "      <td>Subscriber</td>\n",
       "    </tr>\n",
       "    <tr>\n",
       "      <th>2017-04-01 00:01:54</th>\n",
       "      <td>22.0</td>\n",
       "      <td>25930</td>\n",
       "      <td>1995.0</td>\n",
       "      <td>1.507976</td>\n",
       "      <td>3158</td>\n",
       "      <td>40.771639</td>\n",
       "      <td>-73.982614</td>\n",
       "      <td>W 63 St &amp; Broadway</td>\n",
       "      <td>male</td>\n",
       "      <td>NaN</td>\n",
       "      <td>490</td>\n",
       "      <td>40.751551</td>\n",
       "      <td>-73.993934</td>\n",
       "      <td>8 Ave &amp; W 33 St</td>\n",
       "      <td>2017-04-01 00:11:40</td>\n",
       "      <td>585</td>\n",
       "      <td>Subscriber</td>\n",
       "    </tr>\n",
       "    <tr>\n",
       "      <th>2017-04-01 00:01:56</th>\n",
       "      <td>30.0</td>\n",
       "      <td>27110</td>\n",
       "      <td>1987.0</td>\n",
       "      <td>1.310112</td>\n",
       "      <td>412</td>\n",
       "      <td>40.715816</td>\n",
       "      <td>-73.994224</td>\n",
       "      <td>Forsyth St &amp; Canal St</td>\n",
       "      <td>male</td>\n",
       "      <td>NaN</td>\n",
       "      <td>504</td>\n",
       "      <td>40.732219</td>\n",
       "      <td>-73.981656</td>\n",
       "      <td>1 Ave &amp; E 16 St</td>\n",
       "      <td>2017-04-01 00:13:01</td>\n",
       "      <td>665</td>\n",
       "      <td>Subscriber</td>\n",
       "    </tr>\n",
       "    <tr>\n",
       "      <th>2017-04-01 00:02:24</th>\n",
       "      <td>56.0</td>\n",
       "      <td>28392</td>\n",
       "      <td>1961.0</td>\n",
       "      <td>0.432312</td>\n",
       "      <td>411</td>\n",
       "      <td>40.722281</td>\n",
       "      <td>-73.976687</td>\n",
       "      <td>E 6 St &amp; Avenue D</td>\n",
       "      <td>male</td>\n",
       "      <td>NaN</td>\n",
       "      <td>445</td>\n",
       "      <td>40.727408</td>\n",
       "      <td>-73.981420</td>\n",
       "      <td>E 10 St &amp; Avenue A</td>\n",
       "      <td>2017-04-01 00:06:47</td>\n",
       "      <td>262</td>\n",
       "      <td>Subscriber</td>\n",
       "    </tr>\n",
       "    <tr>\n",
       "      <th>2017-04-01 00:02:36</th>\n",
       "      <td>50.0</td>\n",
       "      <td>19316</td>\n",
       "      <td>1967.0</td>\n",
       "      <td>0.324843</td>\n",
       "      <td>3300</td>\n",
       "      <td>40.665147</td>\n",
       "      <td>-73.976376</td>\n",
       "      <td>Prospect Park West &amp; 8 St</td>\n",
       "      <td>female</td>\n",
       "      <td>NaN</td>\n",
       "      <td>3423</td>\n",
       "      <td>40.661063</td>\n",
       "      <td>-73.979453</td>\n",
       "      <td>West Drive &amp; Prospect Park West</td>\n",
       "      <td>2017-04-01 00:04:50</td>\n",
       "      <td>134</td>\n",
       "      <td>Subscriber</td>\n",
       "    </tr>\n",
       "  </tbody>\n",
       "</table>\n",
       "</div>"
      ],
      "text/plain": [
       "                      Age  bikeid  birth year  Distance  end station id  \\\n",
       "starttime                                                                 \n",
       "2017-04-01 00:00:58  51.0   25454      1966.0  0.391795             430   \n",
       "2017-04-01 00:01:54  22.0   25930      1995.0  1.507976            3158   \n",
       "2017-04-01 00:01:56  30.0   27110      1987.0  1.310112             412   \n",
       "2017-04-01 00:02:24  56.0   28392      1961.0  0.432312             411   \n",
       "2017-04-01 00:02:36  50.0   19316      1967.0  0.324843            3300   \n",
       "\n",
       "                     end station latitude  end station longitude  \\\n",
       "starttime                                                          \n",
       "2017-04-01 00:00:58             40.701485             -73.986569   \n",
       "2017-04-01 00:01:54             40.771639             -73.982614   \n",
       "2017-04-01 00:01:56             40.715816             -73.994224   \n",
       "2017-04-01 00:02:24             40.722281             -73.976687   \n",
       "2017-04-01 00:02:36             40.665147             -73.976376   \n",
       "\n",
       "                              end station name  Gender name_localizedValue0  \\\n",
       "starttime                                                                     \n",
       "2017-04-01 00:00:58           York St & Jay St    male                  NaN   \n",
       "2017-04-01 00:01:54         W 63 St & Broadway    male                  NaN   \n",
       "2017-04-01 00:01:56      Forsyth St & Canal St    male                  NaN   \n",
       "2017-04-01 00:02:24          E 6 St & Avenue D    male                  NaN   \n",
       "2017-04-01 00:02:36  Prospect Park West & 8 St  female                  NaN   \n",
       "\n",
       "                     start station id  start station latitude  \\\n",
       "starttime                                                       \n",
       "2017-04-01 00:00:58               217               40.702772   \n",
       "2017-04-01 00:01:54               490               40.751551   \n",
       "2017-04-01 00:01:56               504               40.732219   \n",
       "2017-04-01 00:02:24               445               40.727408   \n",
       "2017-04-01 00:02:36              3423               40.661063   \n",
       "\n",
       "                     start station longitude               start station name  \\\n",
       "starttime                                                                       \n",
       "2017-04-01 00:00:58               -73.993836                    Old Fulton St   \n",
       "2017-04-01 00:01:54               -73.993934                  8 Ave & W 33 St   \n",
       "2017-04-01 00:01:56               -73.981656                  1 Ave & E 16 St   \n",
       "2017-04-01 00:02:24               -73.981420               E 10 St & Avenue A   \n",
       "2017-04-01 00:02:36               -73.979453  West Drive & Prospect Park West   \n",
       "\n",
       "                                stoptime  tripduration    usertype  \n",
       "starttime                                                           \n",
       "2017-04-01 00:00:58  2017-04-01 00:04:14           195  Subscriber  \n",
       "2017-04-01 00:01:54  2017-04-01 00:11:40           585  Subscriber  \n",
       "2017-04-01 00:01:56  2017-04-01 00:13:01           665  Subscriber  \n",
       "2017-04-01 00:02:24  2017-04-01 00:06:47           262  Subscriber  \n",
       "2017-04-01 00:02:36  2017-04-01 00:04:50           134  Subscriber  "
      ]
     },
     "execution_count": 45,
     "metadata": {},
     "output_type": "execute_result"
    }
   ],
   "source": [
    "df.head()"
   ]
  },
  {
   "cell_type": "markdown",
   "metadata": {},
   "source": [
    "### And save it to a happy huge file if you just use a years worth of NYC data \n",
    "##### (also a good cutoff point because the csvs before April 2017 use different column names)\n",
    "##### The file is 3.3 gigs from 04-2017 through 04-2018."
   ]
  },
  {
   "cell_type": "code",
   "execution_count": 46,
   "metadata": {},
   "outputs": [],
   "source": [
    "df.to_csv('data/2017-04-2018-04-citibike-selected-tripdata.csv', encoding='utf-8')"
   ]
  }
 ],
 "metadata": {
  "kernelspec": {
   "display_name": "Python [default]",
   "language": "python",
   "name": "python3"
  },
  "language_info": {
   "codemirror_mode": {
    "name": "ipython",
    "version": 3
   },
   "file_extension": ".py",
   "mimetype": "text/x-python",
   "name": "python",
   "nbconvert_exporter": "python",
   "pygments_lexer": "ipython3",
   "version": "3.6.3"
  }
 },
 "nbformat": 4,
 "nbformat_minor": 2
}
